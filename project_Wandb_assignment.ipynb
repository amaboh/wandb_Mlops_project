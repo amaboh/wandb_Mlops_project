{
 "cells": [
  {
   "cell_type": "code",
   "execution_count": 1,
   "id": "deec176e",
   "metadata": {},
   "outputs": [],
   "source": [
    "import dgl\n",
    "import torch\n",
    "import torch.nn as nn\n",
    "import torch.nn.functional as F\n",
    "import numpy as np\n",
    "import scipy.sparse as sp\n",
    "import itertools\n",
    "import wandb\n",
    "import os"
   ]
  },
  {
   "cell_type": "code",
   "execution_count": 3,
   "id": "57ef1b80",
   "metadata": {},
   "outputs": [
    {
     "name": "stderr",
     "output_type": "stream",
     "text": [
      "\u001b[34m\u001b[1mwandb\u001b[0m: \u001b[33mWARNING\u001b[0m Calling wandb.login() after wandb.init() has no effect.\n"
     ]
    },
    {
     "data": {
      "text/plain": [
       "True"
      ]
     },
     "execution_count": 3,
     "metadata": {},
     "output_type": "execute_result"
    }
   ],
   "source": [
    "##Login wandb client\n",
    "wandb.login()"
   ]
  },
  {
   "cell_type": "code",
   "execution_count": 2,
   "id": "2391e63a",
   "metadata": {},
   "outputs": [
    {
     "name": "stderr",
     "output_type": "stream",
     "text": [
      "\u001b[34m\u001b[1mwandb\u001b[0m: Currently logged in as: \u001b[33mamaboh\u001b[0m (\u001b[33mavri\u001b[0m). Use \u001b[1m`wandb login --relogin`\u001b[0m to force relogin\n"
     ]
    },
    {
     "data": {
      "text/html": [
       "Tracking run with wandb version 0.15.8"
      ],
      "text/plain": [
       "<IPython.core.display.HTML object>"
      ]
     },
     "metadata": {},
     "output_type": "display_data"
    },
    {
     "data": {
      "text/html": [
       "Run data is saved locally in <code>/Volumes/AM/Desktop/MLOPs/wandb_Mlops_project/wandb/run-20230820_140006-h1itx76g</code>"
      ],
      "text/plain": [
       "<IPython.core.display.HTML object>"
      ]
     },
     "metadata": {},
     "output_type": "display_data"
    },
    {
     "data": {
      "text/html": [
       "Syncing run <strong><a href='https://wandb.ai/avri/link_model/runs/h1itx76g' target=\"_blank\">restful-wildflower-3</a></strong> to <a href='https://wandb.ai/avri/link_model' target=\"_blank\">Weights & Biases</a> (<a href='https://wandb.me/run' target=\"_blank\">docs</a>)<br/>"
      ],
      "text/plain": [
       "<IPython.core.display.HTML object>"
      ]
     },
     "metadata": {},
     "output_type": "display_data"
    },
    {
     "data": {
      "text/html": [
       " View project at <a href='https://wandb.ai/avri/link_model' target=\"_blank\">https://wandb.ai/avri/link_model</a>"
      ],
      "text/plain": [
       "<IPython.core.display.HTML object>"
      ]
     },
     "metadata": {},
     "output_type": "display_data"
    },
    {
     "data": {
      "text/html": [
       " View run at <a href='https://wandb.ai/avri/link_model/runs/h1itx76g' target=\"_blank\">https://wandb.ai/avri/link_model/runs/h1itx76g</a>"
      ],
      "text/plain": [
       "<IPython.core.display.HTML object>"
      ]
     },
     "metadata": {},
     "output_type": "display_data"
    }
   ],
   "source": [
    "run = wandb.init(\n",
    "        # Set the project where this run will be logged\n",
    "    project=\"link_model\",\n",
    "    # Track hyperparameters and run metadata\n",
    "    config={\n",
    "        \"learning_rate\": 0.01,\n",
    "        \"epochs\": 10,\n",
    "    }\n",
    ")"
   ]
  },
  {
   "cell_type": "code",
   "execution_count": 4,
   "id": "6ff1f309",
   "metadata": {},
   "outputs": [
    {
     "name": "stdout",
     "output_type": "stream",
     "text": [
      "  NumNodes: 2708\n",
      "  NumEdges: 10556\n",
      "  NumFeats: 1433\n",
      "  NumClasses: 7\n",
      "  NumTrainingSamples: 140\n",
      "  NumValidationSamples: 500\n",
      "  NumTestSamples: 1000\n",
      "Done loading data from cached files.\n"
     ]
    }
   ],
   "source": [
    "import dgl.data\n",
    "\n",
    "dataset = dgl.data.CoraGraphDataset()\n",
    "g = dataset[0]"
   ]
  },
  {
   "cell_type": "code",
   "execution_count": 5,
   "id": "b0bab322",
   "metadata": {},
   "outputs": [],
   "source": [
    "# Split edge set for training and testing\n",
    "u, v = g.edges()\n",
    "\n",
    "eids = np.arange(g.number_of_edges())\n",
    "eids = np.random.permutation(eids)\n",
    "test_size = int(len(eids) * 0.1)\n",
    "train_size = g.number_of_edges() - test_size\n",
    "test_pos_u, test_pos_v = u[eids[:test_size]], v[eids[:test_size]]\n",
    "train_pos_u, train_pos_v = u[eids[test_size:]], v[eids[test_size:]]\n",
    "\n",
    "# Find all negative edges and split them for training and testing\n",
    "adj = sp.coo_matrix((np.ones(len(u)), (u.numpy(), v.numpy())))\n",
    "adj_neg = 1 - adj.todense() - np.eye(g.number_of_nodes())\n",
    "neg_u, neg_v = np.where(adj_neg != 0)\n",
    "\n",
    "neg_eids = np.random.choice(len(neg_u), g.number_of_edges())\n",
    "test_neg_u, test_neg_v = neg_u[neg_eids[:test_size]], neg_v[neg_eids[:test_size]]\n",
    "train_neg_u, train_neg_v = neg_u[neg_eids[test_size:]], neg_v[neg_eids[test_size:]]"
   ]
  },
  {
   "cell_type": "code",
   "execution_count": 6,
   "id": "e07307b8",
   "metadata": {},
   "outputs": [],
   "source": [
    "train_g = dgl.remove_edges(g, eids[:test_size])"
   ]
  },
  {
   "cell_type": "code",
   "execution_count": 7,
   "id": "08fdcd6e",
   "metadata": {},
   "outputs": [],
   "source": [
    "from dgl.nn import SAGEConv\n",
    "\n",
    "# ----------- 2. create model -------------- #\n",
    "# build a two-layer GraphSAGE model\n",
    "class GraphSAGE(nn.Module):\n",
    "    def __init__(self, in_feats, h_feats):\n",
    "        super(GraphSAGE, self).__init__()\n",
    "        self.conv1 = SAGEConv(in_feats, h_feats, 'mean')\n",
    "        self.conv2 = SAGEConv(h_feats, h_feats, 'mean')\n",
    "\n",
    "    def forward(self, g, in_feat):\n",
    "        h = self.conv1(g, in_feat)\n",
    "        h = F.relu(h)\n",
    "        h = self.conv2(g, h)\n",
    "        return h"
   ]
  },
  {
   "cell_type": "code",
   "execution_count": 8,
   "id": "55d71298",
   "metadata": {},
   "outputs": [],
   "source": [
    "## Positive and negative graph edges\n",
    "train_pos_g = dgl.graph((train_pos_u, train_pos_v), num_nodes=g.number_of_nodes())\n",
    "train_neg_g = dgl.graph((train_neg_u, train_neg_v), num_nodes=g.number_of_nodes())\n",
    "\n",
    "test_pos_g = dgl.graph((test_pos_u, test_pos_v), num_nodes=g.number_of_nodes())\n",
    "test_neg_g = dgl.graph((test_neg_u, test_neg_v), num_nodes=g.number_of_nodes())"
   ]
  },
  {
   "cell_type": "code",
   "execution_count": 9,
   "id": "a7f6f071",
   "metadata": {},
   "outputs": [],
   "source": [
    "import dgl.function as fn\n",
    "\n",
    "class DotPredictor(nn.Module):\n",
    "    def forward(self, g, h):\n",
    "        with g.local_scope():\n",
    "            g.ndata['h'] = h\n",
    "            # Compute a new edge feature named 'score' by a dot-product between the\n",
    "            # source node feature 'h' and destination node feature 'h'.\n",
    "            g.apply_edges(fn.u_dot_v('h', 'h', 'score'))\n",
    "            # u_dot_v returns a 1-element vector for each edge so you need to squeeze it.\n",
    "            return g.edata['score'][:, 0]"
   ]
  },
  {
   "cell_type": "code",
   "execution_count": 10,
   "id": "d77e729f",
   "metadata": {},
   "outputs": [],
   "source": [
    "model = GraphSAGE(train_g.ndata['feat'].shape[1], 16)\n",
    "# You can replace DotPredictor with MLPPredictor.\n",
    "#pred = MLPPredictor(16)\n",
    "pred = DotPredictor()\n",
    "\n",
    "def compute_loss(pos_score, neg_score):\n",
    "    scores = torch.cat([pos_score, neg_score])\n",
    "    labels = torch.cat([torch.ones(pos_score.shape[0]), torch.zeros(neg_score.shape[0])])\n",
    "    return F.binary_cross_entropy_with_logits(scores, labels)\n",
    "\n",
    "def compute_auc(pos_score, neg_score):\n",
    "    scores = torch.cat([pos_score, neg_score]).numpy()\n",
    "    labels = torch.cat(\n",
    "        [torch.ones(pos_score.shape[0]), torch.zeros(neg_score.shape[0])]).numpy()\n",
    "    return roc_auc_score(labels, scores)"
   ]
  },
  {
   "cell_type": "code",
   "execution_count": 27,
   "id": "49120a44",
   "metadata": {},
   "outputs": [],
   "source": [
    "epochs=10\n",
    "lr=0.001"
   ]
  },
  {
   "cell_type": "code",
   "execution_count": 29,
   "id": "6d5d2d56",
   "metadata": {},
   "outputs": [
    {
     "data": {
      "text/html": [
       "Finishing last run (ID:6rbam3ie) before initializing another..."
      ],
      "text/plain": [
       "<IPython.core.display.HTML object>"
      ]
     },
     "metadata": {},
     "output_type": "display_data"
    },
    {
     "data": {
      "text/html": [
       "Waiting for W&B process to finish... <strong style=\"color:green\">(success).</strong>"
      ],
      "text/plain": [
       "<IPython.core.display.HTML object>"
      ]
     },
     "metadata": {},
     "output_type": "display_data"
    },
    {
     "data": {
      "application/vnd.jupyter.widget-view+json": {
       "model_id": "81b719f80eee4c50aeb5453cdd93b39f",
       "version_major": 2,
       "version_minor": 0
      },
      "text/plain": [
       "VBox(children=(Label(value='0.001 MB of 0.015 MB uploaded (0.000 MB deduped)\\r'), FloatProgress(value=0.058553…"
      ]
     },
     "metadata": {},
     "output_type": "display_data"
    },
    {
     "data": {
      "text/html": [
       " View run <strong style=\"color:#cdcd00\">brisk-star-4</strong> at: <a href='https://wandb.ai/avri/wandb_Mlops_project/runs/6rbam3ie' target=\"_blank\">https://wandb.ai/avri/wandb_Mlops_project/runs/6rbam3ie</a><br/>Synced 5 W&B file(s), 0 media file(s), 0 artifact file(s) and 0 other file(s)"
      ],
      "text/plain": [
       "<IPython.core.display.HTML object>"
      ]
     },
     "metadata": {},
     "output_type": "display_data"
    },
    {
     "data": {
      "text/html": [
       "Find logs at: <code>./wandb/run-20230820_142733-6rbam3ie/logs</code>"
      ],
      "text/plain": [
       "<IPython.core.display.HTML object>"
      ]
     },
     "metadata": {},
     "output_type": "display_data"
    },
    {
     "data": {
      "text/html": [
       "Successfully finished last run (ID:6rbam3ie). Initializing new run:<br/>"
      ],
      "text/plain": [
       "<IPython.core.display.HTML object>"
      ]
     },
     "metadata": {},
     "output_type": "display_data"
    },
    {
     "data": {
      "application/vnd.jupyter.widget-view+json": {
       "model_id": "49997c18baf44c5796d0d5dbe002879e",
       "version_major": 2,
       "version_minor": 0
      },
      "text/plain": [
       "VBox(children=(Label(value='Waiting for wandb.init()...\\r'), FloatProgress(value=0.016752479166704384, max=1.0…"
      ]
     },
     "metadata": {},
     "output_type": "display_data"
    },
    {
     "data": {
      "text/html": [
       "Tracking run with wandb version 0.15.8"
      ],
      "text/plain": [
       "<IPython.core.display.HTML object>"
      ]
     },
     "metadata": {},
     "output_type": "display_data"
    },
    {
     "data": {
      "text/html": [
       "Run data is saved locally in <code>/Volumes/AM/Desktop/MLOPs/wandb_Mlops_project/wandb/run-20230820_143901-q3ir5yy6</code>"
      ],
      "text/plain": [
       "<IPython.core.display.HTML object>"
      ]
     },
     "metadata": {},
     "output_type": "display_data"
    },
    {
     "data": {
      "text/html": [
       "Syncing run <strong><a href='https://wandb.ai/avri/link_model/runs/q3ir5yy6' target=\"_blank\">fallen-sky-5</a></strong> to <a href='https://wandb.ai/avri/link_model' target=\"_blank\">Weights & Biases</a> (<a href='https://wandb.me/run' target=\"_blank\">docs</a>)<br/>"
      ],
      "text/plain": [
       "<IPython.core.display.HTML object>"
      ]
     },
     "metadata": {},
     "output_type": "display_data"
    },
    {
     "data": {
      "text/html": [
       " View project at <a href='https://wandb.ai/avri/link_model' target=\"_blank\">https://wandb.ai/avri/link_model</a>"
      ],
      "text/plain": [
       "<IPython.core.display.HTML object>"
      ]
     },
     "metadata": {},
     "output_type": "display_data"
    },
    {
     "data": {
      "text/html": [
       " View run at <a href='https://wandb.ai/avri/link_model/runs/q3ir5yy6' target=\"_blank\">https://wandb.ai/avri/link_model/runs/q3ir5yy6</a>"
      ],
      "text/plain": [
       "<IPython.core.display.HTML object>"
      ]
     },
     "metadata": {},
     "output_type": "display_data"
    }
   ],
   "source": [
    "run = wandb.init(\n",
    "    # Set the project where this run will be logged\n",
    "    project=\"link_model\",\n",
    "    # Track hyperparameters and run metadata\n",
    "    tags=['baseline','production'],\n",
    "    config={\n",
    "        \"learning_rate\": lr,\n",
    "        \"epochs\": epochs,\n",
    "    })"
   ]
  },
  {
   "cell_type": "code",
   "execution_count": 30,
   "id": "c9372628",
   "metadata": {},
   "outputs": [
    {
     "name": "stdout",
     "output_type": "stream",
     "text": [
      "In epoch 0, loss: 0.7030053734779358\n",
      "In epoch 1, loss: 0.7018020749092102\n",
      "In epoch 2, loss: 0.7007216811180115\n",
      "In epoch 3, loss: 0.6997526288032532\n",
      "In epoch 4, loss: 0.6988801956176758\n",
      "In epoch 5, loss: 0.6980986595153809\n",
      "In epoch 6, loss: 0.6973963379859924\n",
      "In epoch 7, loss: 0.6967640519142151\n",
      "In epoch 8, loss: 0.6961938738822937\n",
      "In epoch 9, loss: 0.6956766843795776\n"
     ]
    }
   ],
   "source": [
    "# in this case, loss will in training loop\n",
    "optimizer = torch.optim.Adam(itertools.chain(model.parameters(), pred.parameters()), lr=lr)\n",
    "\n",
    "# ----------- 4. training -------------------------------- #\n",
    "all_logits = []\n",
    "for e in range(epochs):\n",
    "    # forward\n",
    "    h = model(train_g, train_g.ndata['feat'])\n",
    "    pos_score = pred(train_pos_g, h)\n",
    "    neg_score = pred(train_neg_g, h)\n",
    "    loss = compute_loss(pos_score, neg_score)\n",
    "\n",
    "    # backward\n",
    "    optimizer.zero_grad()\n",
    "    loss.backward()\n",
    "    optimizer.step()\n",
    "\n",
    " \n",
    "    print('In epoch {}, loss: {}'.format(e, loss))\n",
    "    wandb.log({\"positive score\": pos_score, \"loss\": loss})"
   ]
  },
  {
   "cell_type": "code",
   "execution_count": null,
   "id": "f4e6314e",
   "metadata": {},
   "outputs": [],
   "source": []
  },
  {
   "cell_type": "markdown",
   "id": "c848a107",
   "metadata": {},
   "source": [
    "## using wandb to get metrics"
   ]
  },
  {
   "cell_type": "code",
   "execution_count": 33,
   "id": "3ee36c68",
   "metadata": {},
   "outputs": [],
   "source": [
    "assert os.getenv('WANDB_API_KEY'), 'You must set the WANDB_API_KEY environment variable'"
   ]
  },
  {
   "cell_type": "code",
   "execution_count": 34,
   "id": "e8dc72b2",
   "metadata": {},
   "outputs": [
    {
     "data": {
      "text/html": [
       "Finishing last run (ID:q3ir5yy6) before initializing another..."
      ],
      "text/plain": [
       "<IPython.core.display.HTML object>"
      ]
     },
     "metadata": {},
     "output_type": "display_data"
    },
    {
     "data": {
      "text/html": [
       "Waiting for W&B process to finish... <strong style=\"color:green\">(success).</strong>"
      ],
      "text/plain": [
       "<IPython.core.display.HTML object>"
      ]
     },
     "metadata": {},
     "output_type": "display_data"
    },
    {
     "data": {
      "application/vnd.jupyter.widget-view+json": {
       "model_id": "e7ee3ad6b14b48be9a7f8c64c9a1839c",
       "version_major": 2,
       "version_minor": 0
      },
      "text/plain": [
       "VBox(children=(Label(value='0.001 MB of 0.001 MB uploaded (0.000 MB deduped)\\r'), FloatProgress(value=1.0, max…"
      ]
     },
     "metadata": {},
     "output_type": "display_data"
    },
    {
     "data": {
      "text/html": [
       "<style>\n",
       "    table.wandb td:nth-child(1) { padding: 0 10px; text-align: left ; width: auto;} td:nth-child(2) {text-align: left ; width: 100%}\n",
       "    .wandb-row { display: flex; flex-direction: row; flex-wrap: wrap; justify-content: flex-start; width: 100% }\n",
       "    .wandb-col { display: flex; flex-direction: column; flex-basis: 100%; flex: 1; padding: 10px; }\n",
       "    </style>\n",
       "<div class=\"wandb-row\"><div class=\"wandb-col\"><h3>Run history:</h3><br/><table class=\"wandb\"><tr><td>loss</td><td>█▇▆▅▄▃▃▂▁▁</td></tr></table><br/></div><div class=\"wandb-col\"><h3>Run summary:</h3><br/><table class=\"wandb\"><tr><td>loss</td><td>0.69568</td></tr></table><br/></div></div>"
      ],
      "text/plain": [
       "<IPython.core.display.HTML object>"
      ]
     },
     "metadata": {},
     "output_type": "display_data"
    },
    {
     "data": {
      "text/html": [
       " View run <strong style=\"color:#cdcd00\">fallen-sky-5</strong> at: <a href='https://wandb.ai/avri/link_model/runs/q3ir5yy6' target=\"_blank\">https://wandb.ai/avri/link_model/runs/q3ir5yy6</a><br/> View job at <a href='https://wandb.ai/avri/link_model/jobs/QXJ0aWZhY3RDb2xsZWN0aW9uOjkxNjE5MDUw/version_details/v1' target=\"_blank\">https://wandb.ai/avri/link_model/jobs/QXJ0aWZhY3RDb2xsZWN0aW9uOjkxNjE5MDUw/version_details/v1</a><br/>Synced 6 W&B file(s), 0 media file(s), 0 artifact file(s) and 0 other file(s)"
      ],
      "text/plain": [
       "<IPython.core.display.HTML object>"
      ]
     },
     "metadata": {},
     "output_type": "display_data"
    },
    {
     "data": {
      "text/html": [
       "Find logs at: <code>./wandb/run-20230820_143901-q3ir5yy6/logs</code>"
      ],
      "text/plain": [
       "<IPython.core.display.HTML object>"
      ]
     },
     "metadata": {},
     "output_type": "display_data"
    },
    {
     "data": {
      "text/html": [
       "Successfully finished last run (ID:q3ir5yy6). Initializing new run:<br/>"
      ],
      "text/plain": [
       "<IPython.core.display.HTML object>"
      ]
     },
     "metadata": {},
     "output_type": "display_data"
    },
    {
     "data": {
      "application/vnd.jupyter.widget-view+json": {
       "model_id": "46e9a02ea1e543c095f8308c02d01b23",
       "version_major": 2,
       "version_minor": 0
      },
      "text/plain": [
       "VBox(children=(Label(value='Waiting for wandb.init()...\\r'), FloatProgress(value=0.016752902083438433, max=1.0…"
      ]
     },
     "metadata": {},
     "output_type": "display_data"
    },
    {
     "data": {
      "text/html": [
       "Tracking run with wandb version 0.15.8"
      ],
      "text/plain": [
       "<IPython.core.display.HTML object>"
      ]
     },
     "metadata": {},
     "output_type": "display_data"
    },
    {
     "data": {
      "text/html": [
       "Run data is saved locally in <code>/Volumes/AM/Desktop/MLOPs/wandb_Mlops_project/wandb/run-20230820_144902-i9vhuq88</code>"
      ],
      "text/plain": [
       "<IPython.core.display.HTML object>"
      ]
     },
     "metadata": {},
     "output_type": "display_data"
    },
    {
     "data": {
      "text/html": [
       "Syncing run <strong><a href='https://wandb.ai/avri/wandb_Mlops_project/runs/i9vhuq88' target=\"_blank\">radiant-donkey-5</a></strong> to <a href='https://wandb.ai/avri/wandb_Mlops_project' target=\"_blank\">Weights & Biases</a> (<a href='https://wandb.me/run' target=\"_blank\">docs</a>)<br/>"
      ],
      "text/plain": [
       "<IPython.core.display.HTML object>"
      ]
     },
     "metadata": {},
     "output_type": "display_data"
    },
    {
     "data": {
      "text/html": [
       " View project at <a href='https://wandb.ai/avri/wandb_Mlops_project' target=\"_blank\">https://wandb.ai/avri/wandb_Mlops_project</a>"
      ],
      "text/plain": [
       "<IPython.core.display.HTML object>"
      ]
     },
     "metadata": {},
     "output_type": "display_data"
    },
    {
     "data": {
      "text/html": [
       " View run at <a href='https://wandb.ai/avri/wandb_Mlops_project/runs/i9vhuq88' target=\"_blank\">https://wandb.ai/avri/wandb_Mlops_project/runs/i9vhuq88</a>"
      ],
      "text/plain": [
       "<IPython.core.display.HTML object>"
      ]
     },
     "metadata": {},
     "output_type": "display_data"
    }
   ],
   "source": [
    "run = wandb.init(job_type=\"CI/CD\")\n",
    "path = 'avri/link_model/'\n",
    "model_name = 'job-https___github.com_amaboh_wandb_Mlops_project_Untitled.ipynb'\n",
    "version = 'prod candidate'\n",
    "\n",
    "artifact = run.use_artifact(f'{path}{model_name}:{version}', \n",
    "                            type='job')"
   ]
  },
  {
   "cell_type": "code",
   "execution_count": 35,
   "id": "e9450c9e",
   "metadata": {},
   "outputs": [],
   "source": [
    "run = artifact.logged_by()"
   ]
  },
  {
   "cell_type": "code",
   "execution_count": null,
   "id": "54f78d85",
   "metadata": {},
   "outputs": [],
   "source": []
  },
  {
   "cell_type": "code",
   "execution_count": null,
   "id": "f39295a9",
   "metadata": {},
   "outputs": [],
   "source": []
  },
  {
   "cell_type": "code",
   "execution_count": 40,
   "id": "4b1db946",
   "metadata": {},
   "outputs": [],
   "source": []
  },
  {
   "cell_type": "code",
   "execution_count": null,
   "id": "30890944",
   "metadata": {},
   "outputs": [],
   "source": []
  },
  {
   "cell_type": "code",
   "execution_count": 44,
   "id": "af7da547",
   "metadata": {},
   "outputs": [],
   "source": [
    "api = wandb.Api()\n",
    "tags= ['baseline']\n",
    "\n",
    "baseline_runs=api.runs('avri/link_model/job-https___github.com_amaboh_wandb_Mlops_project_Untitled.ipynb', \n",
    "                       {\"tags\": {\"$in\": tags}}) # this is the Mongo Client"
   ]
  },
  {
   "cell_type": "code",
   "execution_count": 46,
   "id": "2e3d8d48",
   "metadata": {},
   "outputs": [
    {
     "name": "stderr",
     "output_type": "stream",
     "text": [
      "\u001b[34m\u001b[1mwandb\u001b[0m: Thanks for trying out the Report API!\n",
      "\u001b[34m\u001b[1mwandb\u001b[0m: For a tutorial, check out https://colab.research.google.com/drive/1CzyJx1nuOS4pdkXa2XPaRQyZdmFmLmXV\n",
      "\u001b[34m\u001b[1mwandb\u001b[0m: \n",
      "\u001b[34m\u001b[1mwandb\u001b[0m: Try out tab completion to see what's available.\n",
      "\u001b[34m\u001b[1mwandb\u001b[0m:   ∟ everything:    `wr.<tab>`\n",
      "\u001b[34m\u001b[1mwandb\u001b[0m:       ∟ panels:    `wr.panels.<tab>`\n",
      "\u001b[34m\u001b[1mwandb\u001b[0m:       ∟ blocks:    `wr.blocks.<tab>`\n",
      "\u001b[34m\u001b[1mwandb\u001b[0m:       ∟ helpers:   `wr.helpers.<tab>`\n",
      "\u001b[34m\u001b[1mwandb\u001b[0m:       ∟ templates: `wr.templates.<tab>`\n",
      "\u001b[34m\u001b[1mwandb\u001b[0m:       \n",
      "\u001b[34m\u001b[1mwandb\u001b[0m: For bugs/feature requests, please create an issue on github: https://github.com/wandb/wandb/issues\n"
     ]
    }
   ],
   "source": [
    "import wandb\n",
    "import wandb.apis.reports as wr"
   ]
  },
  {
   "cell_type": "code",
   "execution_count": 53,
   "id": "9ca3b384",
   "metadata": {},
   "outputs": [],
   "source": [
    "PROJECT = 'link_model'\n",
    "ENTITY = 'avri'\n",
    "\n",
    "report = wr.Report(\n",
    "    entity=ENTITY,\n",
    "    project=PROJECT,\n",
    "    title='Compare Runs',\n",
    "    description=\"comparing runs of model\"\n",
    ")  "
   ]
  },
  {
   "cell_type": "code",
   "execution_count": 54,
   "id": "11d0c3b1",
   "metadata": {},
   "outputs": [
    {
     "data": {
      "text/html": [
       "<iframe src='https://wandb.ai/avri/link_model/reports/Compare-Runs--Vmlldzo1MTg2NDc3?jupyter=true' style='border:none;width:100%;height:1024px;'></iframe>"
      ],
      "text/plain": [
       "Report(project='link_model', entity='avri', title='Compare Runs', description='comparing runs of model', width='readable', blocks=[PanelGrid(runsets=[Runset(entity='avri', project='link_model', name='Run Comparison', query='', filters={'$or': [{'$and': [{'displayName': {'$in': ['fallen-sky-5', 'apricot-shape-4']}}]}]}, order=['-CreatedTimestamp'])], panels=[RunComparer(diff_only='split')])])"
      ]
     },
     "execution_count": 54,
     "metadata": {},
     "output_type": "execute_result"
    }
   ],
   "source": [
    "pg = wr.PanelGrid(\n",
    "    runsets=[\n",
    "        wr.Runset(ENTITY, PROJECT, \"Run Comparison\").set_filters_with_python_expr(\"Name in ['fallen-sky-5', 'apricot-shape-4']\")\n",
    "    ],\n",
    "    panels=[\n",
    "        wr.RunComparer(diff_only='split', layout={'w': 24, 'h': 15}),\n",
    "    ]\n",
    ")\n",
    "\n",
    "report.blocks = report.blocks[:1] + [pg] + report.blocks[1:]\n",
    "report.save()"
   ]
  },
  {
   "cell_type": "code",
   "execution_count": 55,
   "id": "66b2d389",
   "metadata": {},
   "outputs": [
    {
     "data": {
      "text/plain": [
       "'https://wandb.ai/avri/link_model/reports/Compare-Runs--Vmlldzo1MTg2NDc3'"
      ]
     },
     "execution_count": 55,
     "metadata": {},
     "output_type": "execute_result"
    },
    {
     "name": "stderr",
     "output_type": "stream",
     "text": [
      "--- Logging error ---\n",
      "Traceback (most recent call last):\n",
      "  File \"/Users/ama/mambaforge/lib/python3.10/logging/__init__.py\", line 1104, in emit\n",
      "    self.flush()\n",
      "  File \"/Users/ama/mambaforge/lib/python3.10/logging/__init__.py\", line 1084, in flush\n",
      "    self.stream.flush()\n",
      "OSError: [Errno 5] Input/output error\n",
      "Call stack:\n",
      "  File \"/Users/ama/mambaforge/lib/python3.10/threading.py\", line 973, in _bootstrap\n",
      "    self._bootstrap_inner()\n",
      "  File \"/Users/ama/mambaforge/lib/python3.10/threading.py\", line 1016, in _bootstrap_inner\n",
      "    self.run()\n",
      "  File \"/Users/ama/mambaforge/lib/python3.10/site-packages/wandb/sdk/internal/internal_util.py\", line 49, in run\n",
      "    self._run()\n",
      "  File \"/Users/ama/mambaforge/lib/python3.10/site-packages/wandb/sdk/internal/internal_util.py\", line 100, in _run\n",
      "    self._process(record)\n",
      "  File \"/Users/ama/mambaforge/lib/python3.10/site-packages/wandb/sdk/internal/internal.py\", line 279, in _process\n",
      "    self._hm.handle(record)\n",
      "  File \"/Users/ama/mambaforge/lib/python3.10/site-packages/wandb/sdk/internal/handler.py\", line 136, in handle\n",
      "    handler(record)\n",
      "  File \"/Users/ama/mambaforge/lib/python3.10/site-packages/wandb/sdk/internal/handler.py\", line 144, in handle_request\n",
      "    logger.debug(f\"handle_request: {request_type}\")\n",
      "Message: 'handle_request: status_report'\n",
      "Arguments: ()\n",
      "--- Logging error ---\n",
      "Traceback (most recent call last):\n",
      "  File \"/Users/ama/mambaforge/lib/python3.10/logging/__init__.py\", line 1104, in emit\n",
      "    self.flush()\n",
      "  File \"/Users/ama/mambaforge/lib/python3.10/logging/__init__.py\", line 1084, in flush\n",
      "    self.stream.flush()\n",
      "OSError: [Errno 5] Input/output error\n",
      "Call stack:\n",
      "  File \"/Users/ama/mambaforge/lib/python3.10/threading.py\", line 973, in _bootstrap\n",
      "    self._bootstrap_inner()\n",
      "  File \"/Users/ama/mambaforge/lib/python3.10/threading.py\", line 1016, in _bootstrap_inner\n",
      "    self.run()\n",
      "  File \"/Users/ama/mambaforge/lib/python3.10/site-packages/wandb/sdk/internal/internal_util.py\", line 49, in run\n",
      "    self._run()\n",
      "  File \"/Users/ama/mambaforge/lib/python3.10/site-packages/wandb/sdk/internal/internal_util.py\", line 100, in _run\n",
      "    self._process(record)\n",
      "  File \"/Users/ama/mambaforge/lib/python3.10/site-packages/wandb/sdk/internal/internal.py\", line 279, in _process\n",
      "    self._hm.handle(record)\n",
      "  File \"/Users/ama/mambaforge/lib/python3.10/site-packages/wandb/sdk/internal/handler.py\", line 136, in handle\n",
      "    handler(record)\n",
      "  File \"/Users/ama/mambaforge/lib/python3.10/site-packages/wandb/sdk/internal/handler.py\", line 144, in handle_request\n",
      "    logger.debug(f\"handle_request: {request_type}\")\n",
      "Message: 'handle_request: stop_status'\n",
      "Arguments: ()\n",
      "--- Logging error ---\n",
      "Traceback (most recent call last):\n",
      "  File \"/Users/ama/mambaforge/lib/python3.10/logging/__init__.py\", line 1104, in emit\n",
      "    self.flush()\n",
      "  File \"/Users/ama/mambaforge/lib/python3.10/logging/__init__.py\", line 1084, in flush\n",
      "    self.stream.flush()\n",
      "OSError: [Errno 5] Input/output error\n",
      "Call stack:\n",
      "  File \"/Users/ama/mambaforge/lib/python3.10/threading.py\", line 973, in _bootstrap\n",
      "    self._bootstrap_inner()\n",
      "  File \"/Users/ama/mambaforge/lib/python3.10/threading.py\", line 1016, in _bootstrap_inner\n",
      "    self.run()\n",
      "  File \"/Users/ama/mambaforge/lib/python3.10/site-packages/wandb/sdk/internal/internal_util.py\", line 49, in run\n",
      "    self._run()\n",
      "  File \"/Users/ama/mambaforge/lib/python3.10/site-packages/wandb/sdk/internal/internal_util.py\", line 100, in _run\n",
      "    self._process(record)\n",
      "  File \"/Users/ama/mambaforge/lib/python3.10/site-packages/wandb/sdk/internal/internal.py\", line 328, in _process\n",
      "    self._sm.send(record)\n",
      "  File \"/Users/ama/mambaforge/lib/python3.10/site-packages/wandb/sdk/internal/sender.py\", line 386, in send\n",
      "    send_handler(record)\n",
      "  File \"/Users/ama/mambaforge/lib/python3.10/site-packages/wandb/sdk/internal/sender.py\", line 406, in send_request\n",
      "    logger.debug(f\"send_request: {request_type}\")\n",
      "Message: 'send_request: stop_status'\n",
      "Arguments: ()\n",
      "--- Logging error ---\n",
      "Traceback (most recent call last):\n",
      "  File \"/Users/ama/mambaforge/lib/python3.10/logging/__init__.py\", line 1104, in emit\n",
      "    self.flush()\n",
      "  File \"/Users/ama/mambaforge/lib/python3.10/logging/__init__.py\", line 1084, in flush\n",
      "    self.stream.flush()\n",
      "OSError: [Errno 5] Input/output error\n",
      "Call stack:\n",
      "  File \"/Users/ama/mambaforge/lib/python3.10/threading.py\", line 973, in _bootstrap\n",
      "    self._bootstrap_inner()\n",
      "  File \"/Users/ama/mambaforge/lib/python3.10/threading.py\", line 1016, in _bootstrap_inner\n",
      "    self.run()\n",
      "  File \"/Users/ama/mambaforge/lib/python3.10/site-packages/wandb/sdk/internal/internal_util.py\", line 49, in run\n",
      "    self._run()\n",
      "  File \"/Users/ama/mambaforge/lib/python3.10/site-packages/wandb/sdk/internal/internal_util.py\", line 101, in _run\n",
      "    self._finish()\n",
      "  File \"/Users/ama/mambaforge/lib/python3.10/site-packages/wandb/sdk/internal/internal.py\", line 331, in _finish\n",
      "    self._sm.finish()\n",
      "  File \"/Users/ama/mambaforge/lib/python3.10/site-packages/wandb/sdk/internal/sender.py\", line 1552, in finish\n",
      "    logger.info(\"shutting down sender\")\n",
      "Message: 'shutting down sender'\n",
      "Arguments: ()\n",
      "--- Logging error ---\n",
      "Traceback (most recent call last):\n",
      "  File \"/Users/ama/mambaforge/lib/python3.10/logging/__init__.py\", line 1104, in emit\n",
      "    self.flush()\n",
      "  File \"/Users/ama/mambaforge/lib/python3.10/logging/__init__.py\", line 1084, in flush\n",
      "    self.stream.flush()\n",
      "OSError: [Errno 5] Input/output error\n",
      "Call stack:\n",
      "  File \"/Users/ama/mambaforge/lib/python3.10/threading.py\", line 973, in _bootstrap\n",
      "    self._bootstrap_inner()\n",
      "  File \"/Users/ama/mambaforge/lib/python3.10/threading.py\", line 1016, in _bootstrap_inner\n",
      "    self.run()\n",
      "  File \"/Users/ama/mambaforge/lib/python3.10/site-packages/wandb/sdk/internal/internal_util.py\", line 49, in run\n",
      "    self._run()\n",
      "  File \"/Users/ama/mambaforge/lib/python3.10/site-packages/wandb/sdk/internal/internal_util.py\", line 101, in _run\n",
      "    self._finish()\n",
      "  File \"/Users/ama/mambaforge/lib/python3.10/site-packages/wandb/sdk/internal/internal.py\", line 282, in _finish\n",
      "    self._hm.finish()\n",
      "  File \"/Users/ama/mambaforge/lib/python3.10/site-packages/wandb/sdk/internal/handler.py\", line 857, in finish\n",
      "    logger.info(\"shutting down handler\")\n",
      "Message: 'shutting down handler'\n",
      "Arguments: ()\n",
      "--- Logging error ---\n",
      "Traceback (most recent call last):\n",
      "  File \"/Users/ama/mambaforge/lib/python3.10/logging/__init__.py\", line 1104, in emit\n",
      "    self.flush()\n",
      "  File \"/Users/ama/mambaforge/lib/python3.10/logging/__init__.py\", line 1084, in flush\n",
      "    self.stream.flush()\n",
      "OSError: [Errno 5] Input/output error\n",
      "Call stack:\n",
      "  File \"/Users/ama/mambaforge/lib/python3.10/threading.py\", line 973, in _bootstrap\n",
      "    self._bootstrap_inner()\n",
      "  File \"/Users/ama/mambaforge/lib/python3.10/threading.py\", line 1016, in _bootstrap_inner\n",
      "    self.run()\n",
      "  File \"/Users/ama/mambaforge/lib/python3.10/site-packages/wandb/sdk/internal/internal_util.py\", line 49, in run\n",
      "    self._run()\n",
      "  File \"/Users/ama/mambaforge/lib/python3.10/site-packages/wandb/sdk/internal/internal_util.py\", line 101, in _run\n",
      "    self._finish()\n",
      "  File \"/Users/ama/mambaforge/lib/python3.10/site-packages/wandb/sdk/internal/internal.py\", line 282, in _finish\n",
      "    self._hm.finish()\n",
      "  File \"/Users/ama/mambaforge/lib/python3.10/site-packages/wandb/sdk/internal/handler.py\", line 859, in finish\n",
      "    self._system_monitor.finish()\n",
      "  File \"/Users/ama/mambaforge/lib/python3.10/site-packages/wandb/sdk/internal/system/system_monitor.py\", line 190, in finish\n",
      "    logger.info(\"Stopping system monitor\")\n",
      "Message: 'Stopping system monitor'\n",
      "Arguments: ()\n",
      "--- Logging error ---\n",
      "Traceback (most recent call last):\n",
      "  File \"/Users/ama/mambaforge/lib/python3.10/logging/__init__.py\", line 1104, in emit\n",
      "    self.flush()\n",
      "  File \"/Users/ama/mambaforge/lib/python3.10/logging/__init__.py\", line 1084, in flush\n",
      "    self.stream.flush()\n",
      "OSError: [Errno 5] Input/output error\n",
      "Call stack:\n",
      "  File \"/Users/ama/mambaforge/lib/python3.10/threading.py\", line 973, in _bootstrap\n",
      "    self._bootstrap_inner()\n",
      "  File \"/Users/ama/mambaforge/lib/python3.10/threading.py\", line 1016, in _bootstrap_inner\n",
      "    self.run()\n",
      "  File \"/Users/ama/mambaforge/lib/python3.10/site-packages/wandb/sdk/internal/internal_util.py\", line 49, in run\n",
      "    self._run()\n",
      "  File \"/Users/ama/mambaforge/lib/python3.10/site-packages/wandb/sdk/internal/internal_util.py\", line 101, in _run\n",
      "    self._finish()\n",
      "  File \"/Users/ama/mambaforge/lib/python3.10/site-packages/wandb/sdk/internal/internal.py\", line 282, in _finish\n",
      "    self._hm.finish()\n",
      "  File \"/Users/ama/mambaforge/lib/python3.10/site-packages/wandb/sdk/internal/handler.py\", line 859, in finish\n",
      "    self._system_monitor.finish()\n",
      "  File \"/Users/ama/mambaforge/lib/python3.10/site-packages/wandb/sdk/internal/system/system_monitor.py\", line 193, in finish\n",
      "    asset.finish()\n",
      "  File \"/Users/ama/mambaforge/lib/python3.10/site-packages/wandb/sdk/internal/system/assets/cpu.py\", line 163, in finish\n",
      "    self.metrics_monitor.finish()\n",
      "  File \"/Users/ama/mambaforge/lib/python3.10/site-packages/wandb/sdk/internal/system/assets/interfaces.py\", line 202, in finish\n",
      "    logger.info(f\"Joined {thread_name} monitor\")\n",
      "Message: 'Joined cpu monitor'\n",
      "Arguments: ()\n",
      "--- Logging error ---\n",
      "Traceback (most recent call last):\n",
      "  File \"/Users/ama/mambaforge/lib/python3.10/logging/__init__.py\", line 1104, in emit\n",
      "    self.flush()\n",
      "  File \"/Users/ama/mambaforge/lib/python3.10/logging/__init__.py\", line 1084, in flush\n",
      "    self.stream.flush()\n",
      "OSError: [Errno 5] Input/output error\n",
      "Call stack:\n",
      "  File \"/Users/ama/mambaforge/lib/python3.10/threading.py\", line 973, in _bootstrap\n",
      "    self._bootstrap_inner()\n",
      "  File \"/Users/ama/mambaforge/lib/python3.10/threading.py\", line 1016, in _bootstrap_inner\n",
      "    self.run()\n",
      "  File \"/Users/ama/mambaforge/lib/python3.10/threading.py\", line 953, in run\n",
      "    self._target(*self._args, **self._kwargs)\n",
      "  File \"/Users/ama/mambaforge/lib/python3.10/site-packages/wandb/sdk/internal/system/system_monitor.py\", line 166, in _start\n",
      "    logger.debug(\"Finished system metrics aggregation loop\")\n",
      "Message: 'Finished system metrics aggregation loop'\n",
      "Arguments: ()\n",
      "--- Logging error ---\n",
      "Traceback (most recent call last):\n",
      "  File \"/Users/ama/mambaforge/lib/python3.10/logging/__init__.py\", line 1104, in emit\n",
      "    self.flush()\n",
      "  File \"/Users/ama/mambaforge/lib/python3.10/logging/__init__.py\", line 1084, in flush\n",
      "    self.stream.flush()\n",
      "OSError: [Errno 5] Input/output error\n",
      "Call stack:\n",
      "  File \"/Users/ama/mambaforge/lib/python3.10/threading.py\", line 973, in _bootstrap\n",
      "    self._bootstrap_inner()\n",
      "  File \"/Users/ama/mambaforge/lib/python3.10/threading.py\", line 1016, in _bootstrap_inner\n",
      "    self.run()\n",
      "  File \"/Users/ama/mambaforge/lib/python3.10/site-packages/wandb/sdk/internal/internal_util.py\", line 49, in run\n",
      "    self._run()\n",
      "  File \"/Users/ama/mambaforge/lib/python3.10/site-packages/wandb/sdk/internal/internal_util.py\", line 101, in _run\n",
      "    self._finish()\n",
      "  File \"/Users/ama/mambaforge/lib/python3.10/site-packages/wandb/sdk/internal/internal.py\", line 282, in _finish\n",
      "    self._hm.finish()\n",
      "  File \"/Users/ama/mambaforge/lib/python3.10/site-packages/wandb/sdk/internal/handler.py\", line 859, in finish\n",
      "    self._system_monitor.finish()\n",
      "  File \"/Users/ama/mambaforge/lib/python3.10/site-packages/wandb/sdk/internal/system/system_monitor.py\", line 193, in finish\n",
      "    asset.finish()\n",
      "  File \"/Users/ama/mambaforge/lib/python3.10/site-packages/wandb/sdk/internal/system/assets/disk.py\", line 77, in finish\n",
      "    self.metrics_monitor.finish()\n",
      "  File \"/Users/ama/mambaforge/lib/python3.10/site-packages/wandb/sdk/internal/system/assets/interfaces.py\", line 202, in finish\n",
      "    logger.info(f\"Joined {thread_name} monitor\")\n",
      "Message: 'Joined disk monitor'\n",
      "Arguments: ()\n",
      "--- Logging error ---\n",
      "Traceback (most recent call last):\n",
      "  File \"/Users/ama/mambaforge/lib/python3.10/logging/__init__.py\", line 1104, in emit\n",
      "    self.flush()\n",
      "  File \"/Users/ama/mambaforge/lib/python3.10/logging/__init__.py\", line 1084, in flush\n",
      "    self.stream.flush()\n",
      "OSError: [Errno 5] Input/output error\n",
      "Call stack:\n",
      "  File \"/Users/ama/mambaforge/lib/python3.10/threading.py\", line 973, in _bootstrap\n",
      "    self._bootstrap_inner()\n",
      "  File \"/Users/ama/mambaforge/lib/python3.10/threading.py\", line 1016, in _bootstrap_inner\n",
      "    self.run()\n",
      "  File \"/Users/ama/mambaforge/lib/python3.10/threading.py\", line 953, in run\n",
      "    self._target(*self._args, **self._kwargs)\n",
      "  File \"/Users/ama/mambaforge/lib/python3.10/site-packages/wandb/sdk/internal/system/system_monitor.py\", line 170, in _start\n",
      "    logger.debug(\"Publishing last batch of metrics\")\n",
      "Message: 'Publishing last batch of metrics'\n",
      "Arguments: ()\n",
      "--- Logging error ---\n",
      "Traceback (most recent call last):\n",
      "  File \"/Users/ama/mambaforge/lib/python3.10/logging/__init__.py\", line 1104, in emit\n",
      "    self.flush()\n",
      "  File \"/Users/ama/mambaforge/lib/python3.10/logging/__init__.py\", line 1084, in flush\n",
      "    self.stream.flush()\n",
      "OSError: [Errno 5] Input/output error\n",
      "Call stack:\n",
      "  File \"/Users/ama/mambaforge/lib/python3.10/threading.py\", line 973, in _bootstrap\n",
      "    self._bootstrap_inner()\n",
      "  File \"/Users/ama/mambaforge/lib/python3.10/threading.py\", line 1016, in _bootstrap_inner\n",
      "    self.run()\n",
      "  File \"/Users/ama/mambaforge/lib/python3.10/site-packages/wandb/sdk/internal/internal_util.py\", line 49, in run\n",
      "    self._run()\n",
      "  File \"/Users/ama/mambaforge/lib/python3.10/site-packages/wandb/sdk/internal/internal_util.py\", line 101, in _run\n",
      "    self._finish()\n",
      "  File \"/Users/ama/mambaforge/lib/python3.10/site-packages/wandb/sdk/internal/internal.py\", line 282, in _finish\n",
      "    self._hm.finish()\n",
      "  File \"/Users/ama/mambaforge/lib/python3.10/site-packages/wandb/sdk/internal/handler.py\", line 859, in finish\n",
      "    self._system_monitor.finish()\n",
      "  File \"/Users/ama/mambaforge/lib/python3.10/site-packages/wandb/sdk/internal/system/system_monitor.py\", line 193, in finish\n",
      "    asset.finish()\n",
      "  File \"/Users/ama/mambaforge/lib/python3.10/site-packages/wandb/sdk/internal/system/assets/gpu_apple.py\", line 128, in finish\n",
      "    self.metrics_monitor.finish()\n",
      "  File \"/Users/ama/mambaforge/lib/python3.10/site-packages/wandb/sdk/internal/system/assets/interfaces.py\", line 202, in finish\n",
      "    logger.info(f\"Joined {thread_name} monitor\")\n",
      "Message: 'Joined gpuapple monitor'\n",
      "Arguments: ()\n",
      "--- Logging error ---\n",
      "Traceback (most recent call last):\n",
      "  File \"/Users/ama/mambaforge/lib/python3.10/logging/__init__.py\", line 1104, in emit\n",
      "    self.flush()\n",
      "  File \"/Users/ama/mambaforge/lib/python3.10/logging/__init__.py\", line 1084, in flush\n",
      "    self.stream.flush()\n",
      "OSError: [Errno 5] Input/output error\n",
      "Call stack:\n",
      "  File \"/Users/ama/mambaforge/lib/python3.10/threading.py\", line 973, in _bootstrap\n",
      "    self._bootstrap_inner()\n",
      "  File \"/Users/ama/mambaforge/lib/python3.10/threading.py\", line 1016, in _bootstrap_inner\n",
      "    self.run()\n",
      "  File \"/Users/ama/mambaforge/lib/python3.10/site-packages/wandb/sdk/internal/internal_util.py\", line 49, in run\n",
      "    self._run()\n",
      "  File \"/Users/ama/mambaforge/lib/python3.10/site-packages/wandb/sdk/internal/internal_util.py\", line 101, in _run\n",
      "    self._finish()\n",
      "  File \"/Users/ama/mambaforge/lib/python3.10/site-packages/wandb/sdk/internal/internal.py\", line 282, in _finish\n",
      "    self._hm.finish()\n",
      "  File \"/Users/ama/mambaforge/lib/python3.10/site-packages/wandb/sdk/internal/handler.py\", line 859, in finish\n",
      "    self._system_monitor.finish()\n",
      "  File \"/Users/ama/mambaforge/lib/python3.10/site-packages/wandb/sdk/internal/system/system_monitor.py\", line 193, in finish\n",
      "    asset.finish()\n",
      "  File \"/Users/ama/mambaforge/lib/python3.10/site-packages/wandb/sdk/internal/system/assets/memory.py\", line 152, in finish\n",
      "    self.metrics_monitor.finish()\n",
      "  File \"/Users/ama/mambaforge/lib/python3.10/site-packages/wandb/sdk/internal/system/assets/interfaces.py\", line 202, in finish\n",
      "    logger.info(f\"Joined {thread_name} monitor\")\n",
      "Message: 'Joined memory monitor'\n",
      "Arguments: ()\n",
      "--- Logging error ---\n",
      "Traceback (most recent call last):\n",
      "  File \"/Users/ama/mambaforge/lib/python3.10/logging/__init__.py\", line 1104, in emit\n",
      "    self.flush()\n",
      "  File \"/Users/ama/mambaforge/lib/python3.10/logging/__init__.py\", line 1084, in flush\n",
      "    self.stream.flush()\n",
      "OSError: [Errno 5] Input/output error\n",
      "Call stack:\n",
      "  File \"/Users/ama/mambaforge/lib/python3.10/threading.py\", line 973, in _bootstrap\n",
      "    self._bootstrap_inner()\n",
      "  File \"/Users/ama/mambaforge/lib/python3.10/threading.py\", line 1016, in _bootstrap_inner\n",
      "    self.run()\n",
      "  File \"/Users/ama/mambaforge/lib/python3.10/site-packages/wandb/sdk/internal/internal_util.py\", line 49, in run\n",
      "    self._run()\n",
      "  File \"/Users/ama/mambaforge/lib/python3.10/site-packages/wandb/sdk/internal/internal_util.py\", line 101, in _run\n",
      "    self._finish()\n",
      "  File \"/Users/ama/mambaforge/lib/python3.10/site-packages/wandb/sdk/internal/internal.py\", line 282, in _finish\n",
      "    self._hm.finish()\n",
      "  File \"/Users/ama/mambaforge/lib/python3.10/site-packages/wandb/sdk/internal/handler.py\", line 859, in finish\n",
      "    self._system_monitor.finish()\n",
      "  File \"/Users/ama/mambaforge/lib/python3.10/site-packages/wandb/sdk/internal/system/system_monitor.py\", line 193, in finish\n",
      "    asset.finish()\n",
      "  File \"/Users/ama/mambaforge/lib/python3.10/site-packages/wandb/sdk/internal/system/assets/network.py\", line 96, in finish\n",
      "    self.metrics_monitor.finish()\n",
      "  File \"/Users/ama/mambaforge/lib/python3.10/site-packages/wandb/sdk/internal/system/assets/interfaces.py\", line 202, in finish\n",
      "    logger.info(f\"Joined {thread_name} monitor\")\n",
      "Message: 'Joined network monitor'\n",
      "Arguments: ()\n"
     ]
    },
    {
     "name": "stderr",
     "output_type": "stream",
     "text": [
      "--- Logging error ---\n",
      "Traceback (most recent call last):\n",
      "  File \"/Users/ama/mambaforge/lib/python3.10/logging/__init__.py\", line 1104, in emit\n",
      "    self.flush()\n",
      "  File \"/Users/ama/mambaforge/lib/python3.10/logging/__init__.py\", line 1084, in flush\n",
      "    self.stream.flush()\n",
      "OSError: [Errno 5] Input/output error\n",
      "Call stack:\n",
      "  File \"/Users/ama/mambaforge/lib/python3.10/threading.py\", line 973, in _bootstrap\n",
      "    self._bootstrap_inner()\n",
      "  File \"/Users/ama/mambaforge/lib/python3.10/threading.py\", line 1016, in _bootstrap_inner\n",
      "    self.run()\n",
      "  File \"/Users/ama/mambaforge/lib/python3.10/site-packages/wandb/sdk/service/streams.py\", line 48, in run\n",
      "    self._target(**self._kwargs)\n",
      "  File \"/Users/ama/mambaforge/lib/python3.10/site-packages/wandb/sdk/internal/internal.py\", line 174, in wandb_internal\n",
      "    logger.error(f\"Thread {thread.name}:\", exc_info=exc_info)\n",
      "Message: 'Thread SenderThread:'\n",
      "Arguments: ()\n",
      "Thread SenderThread:\n",
      "Traceback (most recent call last):\n",
      "  File \"/Users/ama/mambaforge/lib/python3.10/site-packages/wandb/sdk/internal/internal_util.py\", line 49, in run\n",
      "    self._run()\n",
      "  File \"/Users/ama/mambaforge/lib/python3.10/site-packages/wandb/sdk/internal/internal_util.py\", line 101, in _run\n",
      "    self._finish()\n",
      "  File \"/Users/ama/mambaforge/lib/python3.10/site-packages/wandb/sdk/internal/internal.py\", line 331, in _finish\n",
      "    self._sm.finish()\n",
      "  File \"/Users/ama/mambaforge/lib/python3.10/site-packages/wandb/sdk/internal/sender.py\", line 1555, in finish\n",
      "    self._output_raw_finish()\n",
      "  File \"/Users/ama/mambaforge/lib/python3.10/site-packages/wandb/sdk/internal/sender.py\", line 1194, in _output_raw_finish\n",
      "    self._output_raw_flush(stream)\n",
      "  File \"/Users/ama/mambaforge/lib/python3.10/site-packages/wandb/sdk/internal/sender.py\", line 1241, in _output_raw_flush\n",
      "    self._output_raw_file.write(data.encode(\"utf-8\"))\n",
      "  File \"/Users/ama/mambaforge/lib/python3.10/site-packages/wandb/sdk/lib/filesystem.py\", line 79, in write\n",
      "    super().write(b\"\\n\".join(ret) + b\"\\n\")\n",
      "  File \"/Users/ama/mambaforge/lib/python3.10/site-packages/wandb/sdk/lib/filesystem.py\", line 46, in write\n",
      "    self.f.flush()\n",
      "OSError: [Errno 5] Input/output error\n",
      "wandb: ERROR Internal wandb error: file data was not synced\n",
      "--- Logging error ---\n",
      "Traceback (most recent call last):\n",
      "  File \"/Users/ama/mambaforge/lib/python3.10/site-packages/wandb/sdk/lib/sock_client.py\", line 255, in _read_packet_bytes\n",
      "    data = self._sock.recv(self._bufsize)\n",
      "ConnectionResetError: [Errno 54] Connection reset by peer\n",
      "\n",
      "During handling of the above exception, another exception occurred:\n",
      "\n",
      "Traceback (most recent call last):\n",
      "  File \"/Users/ama/mambaforge/lib/python3.10/site-packages/wandb/sdk/interface/router_sock.py\", line 27, in _read_message\n",
      "    resp = self._sock_client.read_server_response(timeout=1)\n",
      "  File \"/Users/ama/mambaforge/lib/python3.10/site-packages/wandb/sdk/lib/sock_client.py\", line 285, in read_server_response\n",
      "    data = self._read_packet_bytes(timeout=timeout)\n",
      "  File \"/Users/ama/mambaforge/lib/python3.10/site-packages/wandb/sdk/lib/sock_client.py\", line 259, in _read_packet_bytes\n",
      "    raise SockClientClosedError\n",
      "wandb.sdk.lib.sock_client.SockClientClosedError\n",
      "\n",
      "During handling of the above exception, another exception occurred:\n",
      "\n",
      "Traceback (most recent call last):\n",
      "  File \"/Users/ama/mambaforge/lib/python3.10/site-packages/wandb/sdk/interface/router.py\", line 70, in message_loop\n",
      "    msg = self._read_message()\n",
      "  File \"/Users/ama/mambaforge/lib/python3.10/site-packages/wandb/sdk/interface/router_sock.py\", line 29, in _read_message\n",
      "    raise MessageRouterClosedError\n",
      "wandb.sdk.interface.router.MessageRouterClosedError\n",
      "\n",
      "During handling of the above exception, another exception occurred:\n",
      "\n",
      "Traceback (most recent call last):\n",
      "  File \"/Users/ama/mambaforge/lib/python3.10/logging/__init__.py\", line 1104, in emit\n",
      "    self.flush()\n",
      "  File \"/Users/ama/mambaforge/lib/python3.10/logging/__init__.py\", line 1084, in flush\n",
      "    self.stream.flush()\n",
      "OSError: [Errno 5] Input/output error\n",
      "Call stack:\n",
      "  File \"/Users/ama/mambaforge/lib/python3.10/threading.py\", line 973, in _bootstrap\n",
      "    self._bootstrap_inner()\n",
      "  File \"/Users/ama/mambaforge/lib/python3.10/threading.py\", line 1016, in _bootstrap_inner\n",
      "    self.run()\n",
      "  File \"/Users/ama/mambaforge/lib/python3.10/threading.py\", line 953, in run\n",
      "    self._target(*self._args, **self._kwargs)\n",
      "  File \"/Users/ama/mambaforge/lib/python3.10/site-packages/wandb/sdk/interface/router.py\", line 77, in message_loop\n",
      "    logger.warning(\"message_loop has been closed\")\n",
      "Message: 'message_loop has been closed'\n",
      "Arguments: ()\n",
      "Exception in thread NetStatThr:\n",
      "Traceback (most recent call last):\n",
      "Exception in thread   File \"/Users/ama/mambaforge/lib/python3.10/threading.py\", line 1016, in _bootstrap_inner\n",
      "ChkStopThr:\n",
      "Traceback (most recent call last):\n",
      "  File \"/Users/ama/mambaforge/lib/python3.10/threading.py\", line 1016, in _bootstrap_inner\n",
      "    self.run()    \n",
      "self.run()  File \"/Users/ama/mambaforge/lib/python3.10/threading.py\", line 953, in run\n",
      "\n",
      "  File \"/Users/ama/mambaforge/lib/python3.10/threading.py\", line 953, in run\n",
      "    self._target(*self._args, **self._kwargs)\n",
      "  File \"/Users/ama/mambaforge/lib/python3.10/site-packages/wandb/sdk/wandb_run.py\", line 256, in check_network_status\n",
      "    self._target(*self._args, **self._kwargs)\n",
      "  File \"/Users/ama/mambaforge/lib/python3.10/site-packages/wandb/sdk/wandb_run.py\", line 274, in check_stop_status\n",
      "    self._loop_check_status(    \n",
      "self._loop_check_status(  File \"/Users/ama/mambaforge/lib/python3.10/site-packages/wandb/sdk/wandb_run.py\", line 212, in _loop_check_status\n",
      "\n",
      "  File \"/Users/ama/mambaforge/lib/python3.10/site-packages/wandb/sdk/wandb_run.py\", line 212, in _loop_check_status\n",
      "    local_handle = request()\n",
      "  File \"/Users/ama/mambaforge/lib/python3.10/site-packages/wandb/sdk/interface/interface.py\", line 864, in deliver_network_status\n",
      "    local_handle = request()\n",
      "  File \"/Users/ama/mambaforge/lib/python3.10/site-packages/wandb/sdk/interface/interface.py\", line 856, in deliver_stop_status\n",
      "    return self._deliver_network_status(status)    \n",
      "return self._deliver_stop_status(status)  File \"/Users/ama/mambaforge/lib/python3.10/site-packages/wandb/sdk/interface/interface_shared.py\", line 610, in _deliver_network_status\n",
      "\n",
      "  File \"/Users/ama/mambaforge/lib/python3.10/site-packages/wandb/sdk/interface/interface_shared.py\", line 594, in _deliver_stop_status\n",
      "        return self._deliver_record(record)return self._deliver_record(record)\n",
      "\n",
      "  File \"/Users/ama/mambaforge/lib/python3.10/site-packages/wandb/sdk/interface/interface_shared.py\", line 569, in _deliver_record\n",
      "  File \"/Users/ama/mambaforge/lib/python3.10/site-packages/wandb/sdk/interface/interface_shared.py\", line 569, in _deliver_record\n",
      "    handle = mailbox._deliver_record(record, interface=self)\n",
      "  File \"/Users/ama/mambaforge/lib/python3.10/site-packages/wandb/sdk/lib/mailbox.py\", line 455, in _deliver_record\n",
      "    handle = mailbox._deliver_record(record, interface=self)\n",
      "      File \"/Users/ama/mambaforge/lib/python3.10/site-packages/wandb/sdk/lib/mailbox.py\", line 455, in _deliver_record\n",
      "interface._publish(record)\n",
      "  File \"/Users/ama/mambaforge/lib/python3.10/site-packages/wandb/sdk/interface/interface_sock.py\", line 51, in _publish\n",
      "    interface._publish(record)\n",
      "      File \"/Users/ama/mambaforge/lib/python3.10/site-packages/wandb/sdk/interface/interface_sock.py\", line 51, in _publish\n",
      "self._sock_client.send_record_publish(record)\n",
      "  File \"/Users/ama/mambaforge/lib/python3.10/site-packages/wandb/sdk/lib/sock_client.py\", line 221, in send_record_publish\n",
      "    self._sock_client.send_record_publish(record)    \n",
      "self.send_server_request(server_req)  File \"/Users/ama/mambaforge/lib/python3.10/site-packages/wandb/sdk/lib/sock_client.py\", line 221, in send_record_publish\n",
      "\n",
      "  File \"/Users/ama/mambaforge/lib/python3.10/site-packages/wandb/sdk/lib/sock_client.py\", line 155, in send_server_request\n",
      "        self._send_message(msg)self.send_server_request(server_req)\n",
      "\n",
      "  File \"/Users/ama/mambaforge/lib/python3.10/site-packages/wandb/sdk/lib/sock_client.py\", line 152, in _send_message\n",
      "  File \"/Users/ama/mambaforge/lib/python3.10/site-packages/wandb/sdk/lib/sock_client.py\", line 155, in send_server_request\n",
      "    self._send_message(msg)    \n",
      "self._sendall_with_error_handle(header + data)  File \"/Users/ama/mambaforge/lib/python3.10/site-packages/wandb/sdk/lib/sock_client.py\", line 152, in _send_message\n",
      "\n",
      "  File \"/Users/ama/mambaforge/lib/python3.10/site-packages/wandb/sdk/lib/sock_client.py\", line 130, in _sendall_with_error_handle\n",
      "    self._sendall_with_error_handle(header + data)\n",
      "  File \"/Users/ama/mambaforge/lib/python3.10/site-packages/wandb/sdk/lib/sock_client.py\", line 130, in _sendall_with_error_handle\n",
      "    sent = self._sock.send(data)\n",
      "BrokenPipeError: [Errno 32] Broken pipe    \n",
      "sent = self._sock.send(data)\n"
     ]
    },
    {
     "name": "stderr",
     "output_type": "stream",
     "text": [
      "BrokenPipeError: [Errno 32] Broken pipe\n"
     ]
    }
   ],
   "source": [
    "report.url"
   ]
  }
 ],
 "metadata": {
  "kernelspec": {
   "display_name": "Python 3 (ipykernel)",
   "language": "python",
   "name": "python3"
  },
  "language_info": {
   "codemirror_mode": {
    "name": "ipython",
    "version": 3
   },
   "file_extension": ".py",
   "mimetype": "text/x-python",
   "name": "python",
   "nbconvert_exporter": "python",
   "pygments_lexer": "ipython3",
   "version": "3.10.10"
  }
 },
 "nbformat": 4,
 "nbformat_minor": 5
}
